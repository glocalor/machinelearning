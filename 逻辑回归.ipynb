{
 "cells": [
  {
   "cell_type": "markdown",
   "id": "573842b8",
   "metadata": {},
   "source": [
    "# 线性模型 既可以用于回归，也可以用于分类"
   ]
  },
  {
   "cell_type": "markdown",
   "id": "cd644034",
   "metadata": {},
   "source": [
    "# 逻辑回归说明"
   ]
  },
  {
   "cell_type": "markdown",
   "id": "b0805c39",
   "metadata": {},
   "source": [
    "- 逻辑回归实际上是用来做分类、而不是归回的线性模型\n",
    "- 逻辑回归即时基于线性模型，求解在给定特征值的条件下，等于某个值的概率P，也就是说输出函数得到的概率值判定分为哪一类\n",
    "- 要得到概率P，和线性归回类似，需要先求解w。即解损失函数(cost function)和线性回归不同的是需要最小化的方程的不同"
   ]
  },
  {
   "cell_type": "markdown",
   "id": "e4fd5dcd",
   "metadata": {},
   "source": [
    "# Binary Case"
   ]
  },
  {
   "cell_type": "markdown",
   "id": "dfe5e077",
   "metadata": {},
   "source": [
    "给定某个特性向量{x_i},标签等于1的概率为："
   ]
  },
  {
   "cell_type": "markdown",
   "id": "08ea6a5d",
   "metadata": {},
   "source": [
    " $ p(X_i) = \\frac{1}{1+e^(X_{i}\\omega+\\omega_0)}$ \n",
    "\n",
    "给定特征向量$X_i$,要求得等于1的概率，即需要先求解$\\omega$和$\\omega_0$"
   ]
  },
  {
   "cell_type": "markdown",
   "id": "ff4a90e6",
   "metadata": {},
   "source": [
    "2元分类的损失函数为：\n",
    "\n",
    "${min_\\omega}C\\sum_{i = 0}{(-{y_i}log(p(X_i))-(1-{y_i})log(1-p(X_i)))+r(\\omega)}$"
   ]
  },
  {
   "cell_type": "markdown",
   "id": "55bbcb9f",
   "metadata": {},
   "source": [
    "# Multinomial Case"
   ]
  },
  {
   "cell_type": "markdown",
   "id": "a8009383",
   "metadata": {},
   "source": [
    "给定某个特性向量$X_i$,等于第$k$个标签的概率为："
   ]
  },
  {
   "cell_type": "markdown",
   "id": "1c5f0f0e",
   "metadata": {},
   "source": [
    "$ p_k(X_i) = \\frac{exp(X_iW_k+W_{0,k})}{\\sum_{l = 0}exp{(X_iW_l+W_{0,l}} )}$ "
   ]
  },
  {
   "cell_type": "markdown",
   "id": "f3eb8397",
   "metadata": {},
   "source": [
    "给定特征向量 $X_𝑖$ ,要求得等于标签k的概率，即需要先求解 矩阵W 和 $W_0$"
   ]
  },
  {
   "cell_type": "markdown",
   "id": "f2d036a6",
   "metadata": {},
   "source": [
    "即求解损失函数"
   ]
  },
  {
   "cell_type": "markdown",
   "id": "553c44a1",
   "metadata": {},
   "source": []
  },
  {
   "cell_type": "code",
   "execution_count": null,
   "id": "2a01ec5c",
   "metadata": {},
   "outputs": [],
   "source": []
  },
  {
   "cell_type": "code",
   "execution_count": null,
   "id": "e733a309",
   "metadata": {},
   "outputs": [],
   "source": []
  },
  {
   "cell_type": "code",
   "execution_count": 3,
   "id": "2a283bcb",
   "metadata": {},
   "outputs": [
    {
     "name": "stderr",
     "output_type": "stream",
     "text": [
      "C:\\Users\\Than\\anaconda3\\lib\\site-packages\\sklearn\\linear_model\\_logistic.py:763: ConvergenceWarning: lbfgs failed to converge (status=1):\n",
      "STOP: TOTAL NO. of ITERATIONS REACHED LIMIT.\n",
      "\n",
      "Increase the number of iterations (max_iter) or scale the data as shown in:\n",
      "    https://scikit-learn.org/stable/modules/preprocessing.html\n",
      "Please also refer to the documentation for alternative solver options:\n",
      "    https://scikit-learn.org/stable/modules/linear_model.html#logistic-regression\n",
      "  n_iter_i = _check_optimize_result(\n"
     ]
    },
    {
     "data": {
      "text/plain": [
       "array([0, 0])"
      ]
     },
     "execution_count": 3,
     "metadata": {},
     "output_type": "execute_result"
    }
   ],
   "source": [
    "from sklearn.datasets import load_iris\n",
    "from sklearn.linear_model import LogisticRegression\n",
    "X, y = load_iris(return_X_y=True)\n",
    "clf = LogisticRegression(random_state=0).fit(X, y)\n",
    "clf.predict(X[:2, :])"
   ]
  },
  {
   "cell_type": "code",
   "execution_count": 4,
   "id": "36af24f6",
   "metadata": {
    "collapsed": true
   },
   "outputs": [
    {
     "data": {
      "text/plain": [
       "array([[9.81797141e-01, 1.82028445e-02, 1.44269293e-08],\n",
       "       [9.71725476e-01, 2.82744937e-02, 3.01659208e-08]])"
      ]
     },
     "execution_count": 4,
     "metadata": {},
     "output_type": "execute_result"
    }
   ],
   "source": [
    "clf.predict_proba(X[:2, :])"
   ]
  },
  {
   "cell_type": "code",
   "execution_count": 10,
   "id": "6d8dc75e",
   "metadata": {},
   "outputs": [
    {
     "data": {
      "text/plain": [
       "array([0, 0, 0, 0, 0, 0, 0, 0, 0, 0, 0, 0, 0, 0, 0, 0, 0, 0, 0, 0, 0, 0,\n",
       "       0, 0, 0, 0, 0, 0, 0, 0, 0, 0, 0, 0, 0, 0, 0, 0, 0, 0, 0, 0, 0, 0,\n",
       "       0, 0, 0, 0, 0, 0, 1, 1, 1, 1, 1, 1, 1, 1, 1, 1, 1, 1, 1, 1, 1, 1,\n",
       "       1, 1, 1, 1, 1, 1, 1, 1, 1, 1, 1, 1, 1, 1, 1, 1, 1, 1, 1, 1, 1, 1,\n",
       "       1, 1, 1, 1, 1, 1, 1, 1, 1, 1, 1, 1, 2, 2, 2, 2, 2, 2, 2, 2, 2, 2,\n",
       "       2, 2, 2, 2, 2, 2, 2, 2, 2, 2, 2, 2, 2, 2, 2, 2, 2, 2, 2, 2, 2, 2,\n",
       "       2, 2, 2, 2, 2, 2, 2, 2, 2, 2, 2, 2, 2, 2, 2, 2, 2, 2])"
      ]
     },
     "execution_count": 10,
     "metadata": {},
     "output_type": "execute_result"
    }
   ],
   "source": [
    "y"
   ]
  },
  {
   "cell_type": "code",
   "execution_count": 11,
   "id": "739809fa",
   "metadata": {},
   "outputs": [
    {
     "data": {
      "text/plain": [
       "array([[5.1, 3.5, 1.4, 0.2],\n",
       "       [4.9, 3. , 1.4, 0.2]])"
      ]
     },
     "execution_count": 11,
     "metadata": {},
     "output_type": "execute_result"
    }
   ],
   "source": [
    "X[:2, :]"
   ]
  },
  {
   "cell_type": "markdown",
   "id": "a5dc6e60",
   "metadata": {},
   "source": [
    "# 贝叶斯回归"
   ]
  },
  {
   "cell_type": "markdown",
   "id": "dab5e226",
   "metadata": {},
   "source": [
    "贝叶斯公式适用于P(概率)和p(概率密度函数)\n",
    "\n",
    "贝叶斯回归即是在操纵概率密度函数?"
   ]
  },
  {
   "cell_type": "markdown",
   "id": "c8fb849d",
   "metadata": {},
   "source": [
    "贝叶斯回归即假定输出${y}$是围绕${X\\omega}$的高斯分布"
   ]
  },
  {
   "cell_type": "markdown",
   "id": "c7de36c3",
   "metadata": {},
   "source": [
    "本质上也是求得参数$\\omega$"
   ]
  },
  {
   "cell_type": "code",
   "execution_count": null,
   "id": "78245c0b",
   "metadata": {},
   "outputs": [],
   "source": []
  },
  {
   "cell_type": "markdown",
   "id": "fb53ba18",
   "metadata": {},
   "source": [
    "贝叶斯主要考虑作为回归使用"
   ]
  },
  {
   "cell_type": "markdown",
   "id": "6c6c1961",
   "metadata": {},
   "source": [
    "# K-means"
   ]
  },
  {
   "cell_type": "markdown",
   "id": "537e2a83",
   "metadata": {},
   "source": [
    "K-means算法是将数据分成多个组，找到每个组的中心点，使得组内的点到中心点的距离最近"
   ]
  },
  {
   "cell_type": "markdown",
   "id": "be2b1abc",
   "metadata": {},
   "source": [
    "# 决策树（Dicision Trees，DTs）"
   ]
  },
  {
   "cell_type": "markdown",
   "id": "e619d280",
   "metadata": {},
   "source": [
    "- 不需要参数(预估)\n",
    "- 监督学习方法\n",
    "- 可用于分类和回归"
   ]
  }
 ],
 "metadata": {
  "kernelspec": {
   "display_name": "Python 3 (ipykernel)",
   "language": "python",
   "name": "python3"
  },
  "language_info": {
   "codemirror_mode": {
    "name": "ipython",
    "version": 3
   },
   "file_extension": ".py",
   "mimetype": "text/x-python",
   "name": "python",
   "nbconvert_exporter": "python",
   "pygments_lexer": "ipython3",
   "version": "3.9.7"
  },
  "toc": {
   "base_numbering": 1,
   "nav_menu": {},
   "number_sections": true,
   "sideBar": true,
   "skip_h1_title": false,
   "title_cell": "Table of Contents",
   "title_sidebar": "Contents",
   "toc_cell": false,
   "toc_position": {
    "height": "calc(100% - 180px)",
    "left": "10px",
    "top": "150px",
    "width": "341.333px"
   },
   "toc_section_display": true,
   "toc_window_display": true
  }
 },
 "nbformat": 4,
 "nbformat_minor": 5
}
