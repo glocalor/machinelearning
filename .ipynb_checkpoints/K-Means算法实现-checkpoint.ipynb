{
 "cells": [
  {
   "cell_type": "code",
   "execution_count": 5,
   "id": "98ba0ac1",
   "metadata": {},
   "outputs": [
    {
     "name": "stderr",
     "output_type": "stream",
     "text": [
      "C:\\Users\\Than\\anaconda3\\lib\\site-packages\\sklearn\\cluster\\_kmeans.py:792: FutureWarning: 'n_jobs' was deprecated in version 0.23 and will be removed in 1.0 (renaming of 0.25).\n",
      "  warnings.warn(\"'n_jobs' was deprecated in version 0.23 and will be\"\n"
     ]
    },
    {
     "data": {
      "text/plain": [
       "array([1, 1, 1, 1, 1, 1, 1, 1, 1, 1, 1, 1, 1, 1, 1, 1, 1, 1, 1, 1, 1, 1,\n",
       "       1, 1, 1, 1, 1, 1, 1, 1, 1, 1, 1, 1, 1, 1, 1, 1, 1, 1, 1, 1, 1, 1,\n",
       "       1, 1, 1, 1, 1, 1, 2, 2, 2, 0, 0, 0, 2, 0, 0, 0, 0, 0, 0, 0, 0, 2,\n",
       "       0, 0, 0, 0, 2, 0, 0, 0, 0, 2, 2, 2, 0, 0, 0, 0, 0, 0, 0, 2, 2, 0,\n",
       "       0, 0, 0, 0, 0, 0, 0, 0, 0, 0, 0, 0, 2, 0, 2, 2, 2, 2, 0, 2, 2, 2,\n",
       "       2, 2, 2, 0, 0, 2, 2, 2, 2, 0, 2, 0, 2, 0, 2, 2, 0, 2, 2, 2, 2, 2,\n",
       "       2, 0, 0, 2, 2, 2, 0, 2, 2, 2, 0, 2, 2, 2, 0, 2, 2, 0])"
      ]
     },
     "execution_count": 5,
     "metadata": {},
     "output_type": "execute_result"
    }
   ],
   "source": [
    "from sklearn import datasets\n",
    "from sklearn.preprocessing import StandardScaler\n",
    "from sklearn.cluster import KMeans\n",
    "\n",
    "# 加载数据\n",
    "iris = datasets.load_iris()\n",
    "features = iris.data\n",
    "\n",
    "# 标准化\n",
    "scaler = StandardScaler()\n",
    "features_std = scaler.fit_transform(features)\n",
    "\n",
    "# 创建KMeans 对象\n",
    "cluster = KMeans(n_clusters=3, random_state=0, n_jobs=-1)\n",
    "\n",
    "# 你和训练\n",
    "model = cluster.fit(features_std)\n",
    "\n",
    "model.labels_"
   ]
  },
  {
   "cell_type": "code",
   "execution_count": 6,
   "id": "4964c415",
   "metadata": {},
   "outputs": [
    {
     "data": {
      "text/plain": [
       "array([0, 0, 0, 0, 0, 0, 0, 0, 0, 0, 0, 0, 0, 0, 0, 0, 0, 0, 0, 0, 0, 0,\n",
       "       0, 0, 0, 0, 0, 0, 0, 0, 0, 0, 0, 0, 0, 0, 0, 0, 0, 0, 0, 0, 0, 0,\n",
       "       0, 0, 0, 0, 0, 0, 1, 1, 1, 1, 1, 1, 1, 1, 1, 1, 1, 1, 1, 1, 1, 1,\n",
       "       1, 1, 1, 1, 1, 1, 1, 1, 1, 1, 1, 1, 1, 1, 1, 1, 1, 1, 1, 1, 1, 1,\n",
       "       1, 1, 1, 1, 1, 1, 1, 1, 1, 1, 1, 1, 2, 2, 2, 2, 2, 2, 2, 2, 2, 2,\n",
       "       2, 2, 2, 2, 2, 2, 2, 2, 2, 2, 2, 2, 2, 2, 2, 2, 2, 2, 2, 2, 2, 2,\n",
       "       2, 2, 2, 2, 2, 2, 2, 2, 2, 2, 2, 2, 2, 2, 2, 2, 2, 2])"
      ]
     },
     "execution_count": 6,
     "metadata": {},
     "output_type": "execute_result"
    }
   ],
   "source": [
    "# 查看真实的类\n",
    "iris.target"
   ]
  },
  {
   "cell_type": "code",
   "execution_count": 8,
   "id": "c09f56c2",
   "metadata": {},
   "outputs": [
    {
     "data": {
      "text/plain": [
       "array([2])"
      ]
     },
     "execution_count": 8,
     "metadata": {},
     "output_type": "execute_result"
    }
   ],
   "source": [
    "#创建样本\n",
    "# new_observation = [[0.8, 0.8, 0.8, 0.8]]\n",
    "new_observation = [[0.8, 0.8, 0.8, 0.8]]\n",
    "\n",
    "# 预测\n",
    "model.predict(new_observation)"
   ]
  },
  {
   "cell_type": "code",
   "execution_count": 9,
   "id": "3e213f9a",
   "metadata": {},
   "outputs": [
    {
     "data": {
      "text/plain": [
       "array([[-0.05021989, -0.88337647,  0.34773781,  0.2815273 ],\n",
       "       [-1.01457897,  0.85326268, -1.30498732, -1.25489349],\n",
       "       [ 1.13597027,  0.08842168,  0.99615451,  1.01752612]])"
      ]
     },
     "execution_count": 9,
     "metadata": {},
     "output_type": "execute_result"
    }
   ],
   "source": [
    "# 查看预测样本的中心点中心点\n",
    "model.cluster_centers_"
   ]
  },
  {
   "cell_type": "code",
   "execution_count": null,
   "id": "fa216d1f",
   "metadata": {},
   "outputs": [],
   "source": []
  },
  {
   "cell_type": "code",
   "execution_count": null,
   "id": "99de4f63",
   "metadata": {},
   "outputs": [],
   "source": []
  },
  {
   "cell_type": "code",
   "execution_count": null,
   "id": "283070d9",
   "metadata": {},
   "outputs": [],
   "source": []
  },
  {
   "cell_type": "code",
   "execution_count": null,
   "id": "c1a9e21b",
   "metadata": {},
   "outputs": [],
   "source": []
  },
  {
   "cell_type": "code",
   "execution_count": 1,
   "id": "34eb0929",
   "metadata": {},
   "outputs": [],
   "source": [
    "import numpy as np\n",
    "import pandas as pd\n",
    "\n",
    "\n",
    "data = pd.read_csv(\"order.csv\")\n",
    "t = data.iloc[:, -8:]\n",
    "\n",
    "\n",
    "class KMeans:\n",
    "    \"\"\"使用Python语言实现聚类算法。\"\"\"\n",
    "    \n",
    "    def __init__(self, k, times):\n",
    "        \"\"\"初始化方法\n",
    "        \n",
    "        Parameters\n",
    "        -----\n",
    "        k : int\n",
    "            聚类的个数\n",
    "        \n",
    "        times : int\n",
    "            聚类迭代的次数\n",
    "        \"\"\"\n",
    "        \n",
    "        self.k = k\n",
    "        self.times = times\n",
    "        \n",
    "    def fit(self, X):\n",
    "        \"\"\"根据提供的训练数据，对模型进行训练。\n",
    "        \n",
    "        Parameters\n",
    "        -----\n",
    "        X : 类数组类型，形状为：[样本数量， 特征数量]\n",
    "            待训练的样本特征属性。\n",
    "        \n",
    "        \"\"\"\n",
    "        X = np.asarray(X)\n",
    "        # 设置随机种子，以便于可以产生相同的随机序列。（随机的结果可以重现。）\n",
    "        np.random.seed(0)\n",
    "        # 从数组中随机选择k个点作为初始聚类中心。\n",
    "        self.cluster_centers_ = X[np.random.randint(0, len(X), self.k)]\n",
    "        self.labels_ = np.zeros(len(X))\n",
    "        \n",
    "        for t in range(self.times):\n",
    "            for index, x in enumerate(X):\n",
    "                # 计算每个样本与聚类中心的距离\n",
    "                dis = np.sqrt(np.sum((x - self.cluster_centers_) ** 2, axis=1))\n",
    "                # 将最小距离的索引赋值给标签数组。索引的值就是当前点所属的簇。范围为[0, k - 1]\n",
    "                self.labels_[index] = dis.argmin()\n",
    "            # 循环遍历每一个簇\n",
    "            for i in range(self.k):\n",
    "                # 计算每个簇内所有点的均值，更新聚类中心。\n",
    "                self.cluster_centers_[i] = np.mean(X[self.labels_ == i], axis=0)\n",
    "                \n",
    "    def predict(self, X):\n",
    "        \"\"\"根据参数传递的样本，对样本数据进行预测。（预测样本属于哪一个簇中）\n",
    "        \n",
    "        Parameters\n",
    "        -----\n",
    "        X : 类数组类型。 形状为: [样本数量， 特征数量]\n",
    "            待预测的特征属性。\n",
    "        \n",
    "        Returns\n",
    "        -----\n",
    "        result : 数组类型\n",
    "            预测的结果。每一个X所属的簇。\n",
    "        \"\"\"\n",
    "        \n",
    "        X = np.asarray(X)\n",
    "        result = np.zeros(len(X))\n",
    "        for index, x in enumerate(X):\n",
    "            # 计算样本到每个聚类中心的距离。\n",
    "            dis = np.sqrt(np.sum((x - self.cluster_centers_) ** 2, axis=1))\n",
    "            # 找到距离最近的聚类中心，划分类别。\n",
    "            result[index] = dis.argmin()\n",
    "        return result"
   ]
  },
  {
   "cell_type": "code",
   "execution_count": null,
   "id": "9e2f475b",
   "metadata": {},
   "outputs": [],
   "source": [
    "kmeans = KMeans(3, 50)\n",
    "kmeans.fit(t)\n",
    " \n",
    "kmeans.cluster_centers_\n",
    " \n",
    "# 查看某个簇内的所有样本数据。\n",
    "t[kmeans.labels_ == 0]\n",
    " \n",
    "kmeans.predict([[30, 30, 40, 0, 0, 0, 0, 0], [0, 0, 0, 0, 0, 30, 30, 40], [30, 30, 0, 0, 0, 0, 20, 20]])\n",
    " \n",
    "t2 = data.loc[:, \"Food%\":\"Fresh%\"]\n",
    "kmeans = KMeans(3, 50)\n",
    "kmeans.fit(t2)"
   ]
  },
  {
   "cell_type": "code",
   "execution_count": 3,
   "id": "0a2cd976",
   "metadata": {},
   "outputs": [
    {
     "data": {
      "text/plain": [
       "[[30, 30, 40, 0, 0, 0, 0, 0],\n",
       " [0, 0, 0, 0, 0, 30, 30, 40],\n",
       " [30, 30, 0, 0, 0, 0, 20, 20]]"
      ]
     },
     "execution_count": 3,
     "metadata": {},
     "output_type": "execute_result"
    }
   ],
   "source": [
    "[[30, 30, 40, 0, 0, 0, 0, 0], [0, 0, 0, 0, 0, 30, 30, 40], [30, 30, 0, 0, 0, 0, 20, 20]]"
   ]
  },
  {
   "cell_type": "code",
   "execution_count": null,
   "id": "a6d03ce1",
   "metadata": {},
   "outputs": [],
   "source": [
    "import matplotlib as mpl\n",
    "import matplotlib.pyplot as plt\n",
    "mpl.rcParams[\"font.family\"] = \"SimHei\"\n",
    "mpl.rcParams[\"axes.unicode_minus\"] = False\n",
    " \n",
    "plt.figure(figsize=(10, 10))\n",
    "# 绘制每个类别的散点图\n",
    "plt.scatter(t2[kmeans.labels_ == 0].iloc[:, 0], t2[kmeans.labels_ == 0].iloc[:, 1], label=\"类别1\")\n",
    "plt.scatter(t2[kmeans.labels_ == 1].iloc[:, 0], t2[kmeans.labels_ == 1].iloc[:, 1], label=\"类别2\")\n",
    "plt.scatter(t2[kmeans.labels_ == 2].iloc[:, 0], t2[kmeans.labels_ == 2].iloc[:, 1], label=\"类别3\")\n",
    "# 绘制聚类中心\n",
    "plt.scatter(kmeans.cluster_centers_[:, 0], kmeans.cluster_centers_[:, 1], marker=\"+\", s=300)\n",
    "plt.title(\"食物与肉类购买的聚类分析\")\n",
    "plt.xlabel(\"食物\")\n",
    "plt.ylabel(\"肉类\")\n",
    "plt.legend()\n",
    "plt.show()"
   ]
  }
 ],
 "metadata": {
  "kernelspec": {
   "display_name": "Python 3 (ipykernel)",
   "language": "python",
   "name": "python3"
  },
  "language_info": {
   "codemirror_mode": {
    "name": "ipython",
    "version": 3
   },
   "file_extension": ".py",
   "mimetype": "text/x-python",
   "name": "python",
   "nbconvert_exporter": "python",
   "pygments_lexer": "ipython3",
   "version": "3.9.7"
  },
  "toc": {
   "base_numbering": 1,
   "nav_menu": {},
   "number_sections": true,
   "sideBar": true,
   "skip_h1_title": false,
   "title_cell": "Table of Contents",
   "title_sidebar": "Contents",
   "toc_cell": false,
   "toc_position": {},
   "toc_section_display": true,
   "toc_window_display": false
  }
 },
 "nbformat": 4,
 "nbformat_minor": 5
}
