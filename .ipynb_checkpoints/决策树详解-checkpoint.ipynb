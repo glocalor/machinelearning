{
 "cells": [
  {
   "cell_type": "markdown",
   "id": "64a7716f",
   "metadata": {},
   "source": [
    "# 信息熵的定义"
   ]
  },
  {
   "cell_type": "markdown",
   "id": "e0c08dcb",
   "metadata": {},
   "source": [
    "假设样本集合D共有N类，第k类样本所占比例为${p_k}$，则D的信息熵为：\n",
    "\n",
    "${H(D)=-\\sum_{k=1}^Np_klog_2p_k}$\n",
    "\n",
    "信息熵描述的是事件在结果出来之前对可能产生的信息量的期望，描述的是<b>不确定性。\n",
    "    \n",
    "信息熵越大，不确定性越大。H(D)的值越小，则表示D的纯度越高。\n",
    "    \n",
    "显然，信息熵针对的是离散的集合下的定义\n",
    "    \n",
    "信息熵的最小值为0，最大值为${log_2N}$\n",
    "    \n",
    "条件熵的定义：\n",
    "    \n",
    "$H(Y|X)=\\sum_iP(X=i)P(Y|X=i)$\n",
    "    \n",
    "    \n",
    "信息增益：\n",
    "    \n",
    "$IG(Y|X)=H(Y)-H(Y|X)$\n",
    "    \n",
    "信息增益是一个统计量，用来描述一个属性区分数据样本的能力。信息增益越大，那么决策树就会越简洁。这里信息增益的程度用信息熵的变化程度来衡量."
   ]
  },
  {
   "cell_type": "markdown",
   "id": "3ce927cc",
   "metadata": {},
   "source": [
    "根据以下信息构建一棵预测是否贷款的决策树。我们可以看到有4个影响因素：职业，年龄，收入和学历。\n",
    "\n",
    "|  职业   | 年龄  | 收入 | 学历 | 是否贷款 |\n",
    "|  ----  | ----  | ----  | ----  | ----  |\n",
    "| 工人  | 36 |5500  | 高中 |否  |\n",
    "| 工人  | 42 |2800  | 初中 |是  |\n",
    "| 白领  | 45 |3300  | 小学 |是  |\n",
    "| 白领  | 25 |10000  | 本科 |是  |\n",
    "| 白领  | 32 |8000  | 硕士 |否  |\n",
    "| 白领  | 28 |13000  | 博士 |是  |"
   ]
  },
  {
   "cell_type": "markdown",
   "id": "b7fb29ed",
   "metadata": {},
   "source": [
    " ## 计算根节点的信息熵\n",
    " \n",
    " 根节点的信息熵即分类标签的信息熵，\"是\"占$\\frac23$,\"否\"占$\\frac13$,\n",
    " \n",
    " 则信息熵：$H(D)=-(\\frac23log_2\\frac23+\\frac13log_2\\frac13)\\approx0.933$\n",
    " \n",
    " ## 计算属性的信息增益\n",
    " \n",
    " ### 职业\n",
    "\n",
    "$H(D|\"职业\")=-(\\frac13(\\frac12log_2\\frac12+\\frac12log_2\\frac12)+\\frac23(\\frac34log_2\\frac34+\\frac14log_2\\frac14))\\approx0.867$\n",
    "\n",
    "IG(D|\"职业\") = H(D) - H(D|\"职业\") = 0.066\n",
    "\n",
    "###  年龄（以35岁为界）\n",
    "\n",
    "$H(D|\"年龄\")=-(\\frac12(\\frac13log_2\\frac13+\\frac23log_2\\frac23)+\\frac12(\\frac13log_2\\frac13+\\frac23log_2\\frac23))\\approx0.933$\n",
    "\n",
    "IG(D|\"年龄\") = H(D) - H(D|\"年龄\") = 0\n",
    "\n",
    "### 收入（以10000为界）\n",
    "\n",
    "$H(D|\"收入\")=-(\\frac13(1log_21+0log_20)+\\frac23(\\frac12log_2\\frac12+\\frac12log_2\\frac12))\\approx0.667$\n",
    "\n",
    "IG(D|\"收入\") = H(D) - H(D|\"收入\") = 0.266\n",
    "\n",
    "### 学历（以高中为界）\n",
    "\n",
    "$H(D|\"学历\")=-(\\frac23(\\frac12log_2\\frac12+\\frac12log_2\\frac12)+\\frac13(0log_20+1log_21))\\approx0.667$\n",
    "\n",
    "IG(D|\"学历\") = H(D) - H(D|\"学历\") = 0.266\n",
    "\n",
    "选择信息增益最大的属性作为划分属性，即选择“收入”"
   ]
  },
  {
   "cell_type": "code",
   "execution_count": null,
   "id": "93918b82",
   "metadata": {},
   "outputs": [],
   "source": []
  }
 ],
 "metadata": {
  "kernelspec": {
   "display_name": "Python 3 (ipykernel)",
   "language": "python",
   "name": "python3"
  },
  "language_info": {
   "codemirror_mode": {
    "name": "ipython",
    "version": 3
   },
   "file_extension": ".py",
   "mimetype": "text/x-python",
   "name": "python",
   "nbconvert_exporter": "python",
   "pygments_lexer": "ipython3",
   "version": "3.9.7"
  },
  "toc": {
   "base_numbering": 1,
   "nav_menu": {},
   "number_sections": true,
   "sideBar": true,
   "skip_h1_title": false,
   "title_cell": "Table of Contents",
   "title_sidebar": "Contents",
   "toc_cell": false,
   "toc_position": {},
   "toc_section_display": true,
   "toc_window_display": false
  }
 },
 "nbformat": 4,
 "nbformat_minor": 5
}
