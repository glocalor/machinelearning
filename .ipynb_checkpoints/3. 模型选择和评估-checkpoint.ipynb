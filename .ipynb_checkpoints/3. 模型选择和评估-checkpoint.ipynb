{
 "cells": [
  {
   "cell_type": "markdown",
   "id": "5c17313b",
   "metadata": {},
   "source": [
    "# 过拟合的概念"
   ]
  },
  {
   "cell_type": "markdown",
   "id": "3bcf1f05",
   "metadata": {},
   "source": [
    "一个仅给出测试用例标签的模型将会获得极高的分数，但是对于尚未出现过的数据将无法预测出任何有用的信息。这种情况称作<b>过拟合</b>。"
   ]
  },
  {
   "cell_type": "code",
   "execution_count": null,
   "id": "345209bb",
   "metadata": {},
   "outputs": [],
   "source": []
  }
 ],
 "metadata": {
  "kernelspec": {
   "display_name": "Python 3 (ipykernel)",
   "language": "python",
   "name": "python3"
  },
  "language_info": {
   "codemirror_mode": {
    "name": "ipython",
    "version": 3
   },
   "file_extension": ".py",
   "mimetype": "text/x-python",
   "name": "python",
   "nbconvert_exporter": "python",
   "pygments_lexer": "ipython3",
   "version": "3.9.7"
  },
  "toc": {
   "base_numbering": 1,
   "nav_menu": {},
   "number_sections": true,
   "sideBar": true,
   "skip_h1_title": false,
   "title_cell": "Table of Contents",
   "title_sidebar": "Contents",
   "toc_cell": false,
   "toc_position": {},
   "toc_section_display": true,
   "toc_window_display": false
  }
 },
 "nbformat": 4,
 "nbformat_minor": 5
}
