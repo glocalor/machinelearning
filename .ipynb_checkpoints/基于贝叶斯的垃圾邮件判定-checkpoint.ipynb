{
 "cells": [
  {
   "cell_type": "markdown",
   "id": "66e27e11",
   "metadata": {},
   "source": [
    "# 问题"
   ]
  },
  {
   "cell_type": "markdown",
   "id": "8c06fc99",
   "metadata": {},
   "source": [
    "给定一封邮件，判定它是否属于垃圾邮件。用D表示这封邮件，注意D由N个单词组成。我们用y+表示垃圾邮件，y-表示正常邮件。"
   ]
  },
  {
   "cell_type": "markdown",
   "id": "e94fb0a2",
   "metadata": {},
   "source": [
    "问题的数学表达为：\n",
    "\n",
    "$P(y+|D) = \\frac{P(y+)*P(D|y+)}{P(D)}$\n",
    "\n",
    "$P(y-|D) = \\frac{P(y-)*P(D|y-)}{P(D)}$\n",
    "\n",
    "$P(y+),P(y-)$表示先验概率，即表示邮件库里面垃圾邮件和正常邮件的比例即可。\n",
    "\n",
    "D里面有N个单词 $d_1,d_2,...,d_n$\n",
    "\n",
    "$P(D|y+)=P(d_1,d_2,...,d_n|y+)$表示垃圾邮件中出现和这封邮件一模一样的概率有多大\n",
    "\n",
    "$P(d_1,d_2,...,d_n|y+)$可以扩展为$P(d_1|y+)P(d_2|d_1,y+)P(d_3|d_1,d_2,y+)...$\n",
    "\n",
    "假设$d_i$和$d_{i-1}$是完全条件无关的(朴素贝叶斯假设特征之间相互独立，互不影响)，\n",
    "\n",
    "扩展可以简化为$P(d_1|y+)P(d_2|y+)P(d_3|y+)...$\n",
    "\n",
    "对于$𝑃(𝑑1|𝑦+)𝑃(𝑑2|𝑦+)𝑃(𝑑3|𝑦+)...$，只需要统计$d_i$个单词在垃圾邮件中出现的频率"
   ]
  },
  {
   "cell_type": "markdown",
   "id": "6b4eb76a",
   "metadata": {},
   "source": [
    "# 代码实现"
   ]
  },
  {
   "cell_type": "code",
   "execution_count": 2,
   "id": "5b23919a",
   "metadata": {},
   "outputs": [],
   "source": [
    "import numpy as np\n",
    "import re\n",
    "import random\n",
    "\n",
    "def textParse(input_string):\n",
    "    listofTokens = re.split(r\"\\W+\",input_string)\n",
    "    return [token.lower() for token in listofTokens if len(listofTokens) > 2]\n",
    "    \n",
    "\n",
    "def spam():\n",
    "    doclist = []\n",
    "    classlist = []\n",
    "    for i in range(1,26):\n",
    "        wordlist = textParse(open(f'email/spam/{i}.txt','r').read())\n",
    "        doclist.append(wordlist)\n",
    "        classlist.appenda(1)  # 1表示垃圾邮件"
   ]
  }
 ],
 "metadata": {
  "kernelspec": {
   "display_name": "Python 3 (ipykernel)",
   "language": "python",
   "name": "python3"
  },
  "language_info": {
   "codemirror_mode": {
    "name": "ipython",
    "version": 3
   },
   "file_extension": ".py",
   "mimetype": "text/x-python",
   "name": "python",
   "nbconvert_exporter": "python",
   "pygments_lexer": "ipython3",
   "version": "3.9.7"
  },
  "toc": {
   "base_numbering": 1,
   "nav_menu": {},
   "number_sections": true,
   "sideBar": true,
   "skip_h1_title": false,
   "title_cell": "Table of Contents",
   "title_sidebar": "Contents",
   "toc_cell": false,
   "toc_position": {},
   "toc_section_display": true,
   "toc_window_display": false
  }
 },
 "nbformat": 4,
 "nbformat_minor": 5
}
